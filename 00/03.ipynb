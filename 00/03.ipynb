{
 "cells": [
  {
   "cell_type": "code",
   "execution_count": 1,
   "metadata": {},
   "outputs": [],
   "source": [
    "# coding: utf-8"
   ]
  },
  {
   "cell_type": "code",
   "execution_count": 2,
   "metadata": {},
   "outputs": [],
   "source": [
    "#自分の実装\n",
    "def sorter(word):\n",
    "    word = word.lower()\n",
    "    result = []\n",
    "    watta = word.split(\" \")\n",
    "    watta.sort()\n",
    "    for wattas in watta:\n",
    "        counter = 0\n",
    "        for l in list(wattas):\n",
    "            if str.isalnum(l):\n",
    "                counter += 1\n",
    "        result.append(counter)\n",
    "    return result"
   ]
  },
  {
   "cell_type": "code",
   "execution_count": 3,
   "metadata": {},
   "outputs": [],
   "source": [
    "example = (\"Now I need a drink, alcoholic of course, after the heavy lectures involving quantum mechanics.\")"
   ]
  },
  {
   "cell_type": "code",
   "execution_count": 4,
   "metadata": {},
   "outputs": [
    {
     "name": "stdout",
     "output_type": "stream",
     "text": [
      "['a', 'after', 'alcoholic', 'course,', 'drink,', 'heavy', 'i', 'involving', 'lectures', 'mechanics.', 'need', 'now', 'of', 'quantum', 'the']\n",
      "[1, 5, 9, 6, 5, 5, 1, 9, 8, 9, 4, 3, 2, 7, 3]\n"
     ]
    }
   ],
   "source": [
    "print(sorter(example))"
   ]
  },
  {
   "cell_type": "code",
   "execution_count": 5,
   "metadata": {},
   "outputs": [],
   "source": [
    "#もっとマシな実装"
   ]
  }
 ],
 "metadata": {
  "kernelspec": {
   "display_name": "Python 3",
   "language": "python",
   "name": "python3"
  },
  "language_info": {
   "codemirror_mode": {
    "name": "ipython",
    "version": 3
   },
   "file_extension": ".py",
   "mimetype": "text/x-python",
   "name": "python",
   "nbconvert_exporter": "python",
   "pygments_lexer": "ipython3",
   "version": "3.7.1"
  }
 },
 "nbformat": 4,
 "nbformat_minor": 2
}
